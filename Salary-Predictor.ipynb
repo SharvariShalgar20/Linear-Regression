{
 "cells": [
  {
   "cell_type": "code",
   "execution_count": 1,
   "id": "c42cad6c",
   "metadata": {},
   "outputs": [],
   "source": [
    "import numpy as np"
   ]
  },
  {
   "cell_type": "code",
   "execution_count": 3,
   "id": "ca9fe753",
   "metadata": {},
   "outputs": [],
   "source": [
    "class Linear_Regression:\n",
    "\n",
    "  #initializing the parameters\n",
    "  def __init__(self, learning_rate, no_of_iteration):\n",
    "    self.learning_rate = learning_rate\n",
    "    self.no_of_iteration = no_of_iteration\n",
    "\n",
    "  #X is year of experience and y is salary\n",
    "  def fit(self, X, y):\n",
    "    #number of training examples & number of features\n",
    "    self.m, self.n = X.shape\n",
    "    #number of training(m) rows\n",
    "    #number of feature(n colums)(1 because year of experience is the  feature and salary is target)\n",
    "    #initiating weight and bias\n",
    "    self.w = np.zeros(self.n)    #w will be decide on the number of features\n",
    "    self.b = 0\n",
    "    self.X = X\n",
    "    self.y = y\n",
    "\n",
    "    for i in range(self.no_of_iteration):\n",
    "      self.update_weight()\n",
    "\n",
    "\n",
    "  def update_weight(self):\n",
    "    Y_prediction = self.predict(self.X)\n",
    "\n",
    "    #calculate gradients\n",
    "\n",
    "    dw = -(2 * (self.X.T).dot(self.y - Y_prediction)) / self.m\n",
    "\n",
    "    db = -(2 * np.sum(self.y - Y_prediction))\n",
    "\n",
    "    #updating the weights\n",
    "    self.w = self.w - self.learning_rate * dw\n",
    "    self.b = self.b - self.learning_rate * db\n",
    "\n",
    "\n",
    "  def predict(self, X):\n",
    "    return X.dot(self.w) +self.b\n"
   ]
  },
  {
   "cell_type": "code",
   "execution_count": null,
   "id": "04427215",
   "metadata": {},
   "outputs": [],
   "source": []
  }
 ],
 "metadata": {
  "kernelspec": {
   "display_name": "venv",
   "language": "python",
   "name": "python3"
  },
  "language_info": {
   "codemirror_mode": {
    "name": "ipython",
    "version": 3
   },
   "file_extension": ".py",
   "mimetype": "text/x-python",
   "name": "python",
   "nbconvert_exporter": "python",
   "pygments_lexer": "ipython3",
   "version": "3.13.1"
  }
 },
 "nbformat": 4,
 "nbformat_minor": 5
}
